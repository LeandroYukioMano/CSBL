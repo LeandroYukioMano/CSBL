{
 "cells": [
  {
   "cell_type": "markdown",
   "metadata": {},
   "source": [
    "# Imports"
   ]
  },
  {
   "cell_type": "code",
   "execution_count": 1,
   "metadata": {},
   "outputs": [],
   "source": [
    "import pandas as pd\n",
    "import numpy as np\n",
    "\n",
    "from sklearn.svm import SVR\n",
    "from sklearn.ensemble import RandomForestRegressor\n",
    "from sklearn.linear_model import SGDRegressor,ElasticNet,RidgeCV, LinearRegression\n",
    "from sklearn.feature_selection import RFE,RFECV\n",
    "from sklearn.model_selection import train_test_split\n",
    "from sklearn.metrics import f1_score\n",
    "from sklearn.preprocessing import StandardScaler\n",
    "from sklearn.pipeline import make_pipeline\n",
    "from sklearn.neighbors import KNeighborsClassifier\n",
    "from sklearn.linear_model import SGDClassifier\n",
    "from sklearn.svm import SVC\n",
    "from sklearn.tree import DecisionTreeClassifier\n",
    "from sklearn.cluster import KMeans\n",
    "from sklearn.model_selection import GridSearchCV, KFold, StratifiedShuffleSplit\n",
    "\n",
    "import seaborn as sns\n",
    "import matplotlib.pyplot as plt\n",
    "\n",
    "from collections import Counter\n",
    "import os\n",
    "import warnings\n",
    "warnings.filterwarnings(\"ignore\")\n",
    "%matplotlib inline\n",
    "sns.set()"
   ]
  },
  {
   "cell_type": "markdown",
   "metadata": {},
   "source": [
    "# Machine Learning"
   ]
  },
  {
   "cell_type": "markdown",
   "metadata": {},
   "source": [
    "## Feature selection"
   ]
  },
  {
   "cell_type": "code",
   "execution_count": 62,
   "metadata": {
    "scrolled": true
   },
   "outputs": [],
   "source": [
    "def get_genes(X,y,estimators,num_genes_fold,num_genes_final,folds):\n",
    "    genes_related = []\n",
    "    \n",
    "    for estimator in estimators:\n",
    "        selector = RFECV(estimator, min_features_to_select=num_genes_fold, cv=folds, step=1)\n",
    "        selector = selector.fit(X, y)\n",
    "        ranking = selector.ranking_\n",
    "        ranking_idx = ranking.argsort()[-num_genes_fold:][::-1]\n",
    "        genes_related+=list(X.columns[ranking_idx])\n",
    "\n",
    "    dic_count = Counter(genes_related)\n",
    "    dic_count = {k: v for k, v in sorted(dic_count.items(), key=lambda item: item[1])}\n",
    "    top_genes = list(dic_count.keys())[-num_genes_final:]\n",
    "    return top_genes\n",
    "\n"
   ]
  },
  {
   "cell_type": "markdown",
   "metadata": {},
   "source": [
    "## Classification"
   ]
  },
  {
   "cell_type": "markdown",
   "metadata": {},
   "source": [
    "## Ajuste de hiperparâmetros"
   ]
  },
  {
   "cell_type": "code",
   "execution_count": 6,
   "metadata": {},
   "outputs": [],
   "source": [
    "def get_hiperparams(X_train,X_test,y_train,y_test,kfold,param_grid, model,w,h,df,plot,annot):\n",
    "    \n",
    "    gs = GridSearchCV(estimator=model,\n",
    "                      param_grid=param_grid,\n",
    "                      cv=kfold)\n",
    "    best_gs = gs.fit(X_train,y_train)\n",
    "    n = len(param_grid)\n",
    "    scores = best_gs.cv_results_['mean_test_score']\n",
    "    scores = scores.reshape(len(scores),)\n",
    "    \n",
    "    if n == 1:\n",
    "        label = list(param_grid.keys())[0]\n",
    "        par = list(param_grid.values())[0]\n",
    "        plt.plot(par,scores)\n",
    "        plt.ylabel('F1-score')\n",
    "        plt.xlabel(label)\n",
    "        plt.show()\n",
    "        \n",
    "    if n == 2:\n",
    "        \n",
    "        label1,label2 = param_grid.keys()\n",
    "        par1,par2 = param_grid.values()\n",
    "        scores_df = pd.DataFrame(columns=par1,index=par2)\n",
    "        for i in range(len(par1)*len(par2)):\n",
    "            col = i % len(par1)\n",
    "            row = i // len(par1)\n",
    "            scores_df.iloc[row,col] = scores[i]\n",
    "\n",
    "        scores_df = scores_df.astype(float)\n",
    "        if df:\n",
    "            print(scores_df)\n",
    "        if plot:\n",
    "            fig= plt.figure(figsize=(w,h))\n",
    "            heatmap = sns.heatmap(scores_df,annot=annot)        \n",
    "            plt.xlabel(label1)\n",
    "            plt.ylabel(label2)\n",
    "            plt.show()\n",
    "\n",
    "    return best_gs.best_params_"
   ]
  },
  {
   "cell_type": "markdown",
   "metadata": {},
   "source": [
    "## Classification "
   ]
  },
  {
   "cell_type": "code",
   "execution_count": 75,
   "metadata": {
    "scrolled": true
   },
   "outputs": [
    {
     "data": {
      "text/html": [
       "<div>\n",
       "<style scoped>\n",
       "    .dataframe tbody tr th:only-of-type {\n",
       "        vertical-align: middle;\n",
       "    }\n",
       "\n",
       "    .dataframe tbody tr th {\n",
       "        vertical-align: top;\n",
       "    }\n",
       "\n",
       "    .dataframe thead th {\n",
       "        text-align: right;\n",
       "    }\n",
       "</style>\n",
       "<table border=\"1\" class=\"dataframe\">\n",
       "  <thead>\n",
       "    <tr style=\"text-align: right;\">\n",
       "      <th></th>\n",
       "      <th>Decision_trees</th>\n",
       "    </tr>\n",
       "  </thead>\n",
       "  <tbody>\n",
       "    <tr>\n",
       "      <th>0</th>\n",
       "      <td>0.69</td>\n",
       "    </tr>\n",
       "    <tr>\n",
       "      <th>1</th>\n",
       "      <td>0.85</td>\n",
       "    </tr>\n",
       "    <tr>\n",
       "      <th>2</th>\n",
       "      <td>0.70</td>\n",
       "    </tr>\n",
       "    <tr>\n",
       "      <th>3</th>\n",
       "      <td>0.55</td>\n",
       "    </tr>\n",
       "    <tr>\n",
       "      <th>4</th>\n",
       "      <td>0.62</td>\n",
       "    </tr>\n",
       "    <tr>\n",
       "      <th>5</th>\n",
       "      <td>0.54</td>\n",
       "    </tr>\n",
       "    <tr>\n",
       "      <th>6</th>\n",
       "      <td>0.55</td>\n",
       "    </tr>\n",
       "    <tr>\n",
       "      <th>7</th>\n",
       "      <td>0.81</td>\n",
       "    </tr>\n",
       "  </tbody>\n",
       "</table>\n",
       "</div>"
      ],
      "text/plain": [
       "   Decision_trees\n",
       "0            0.69\n",
       "1            0.85\n",
       "2            0.70\n",
       "3            0.55\n",
       "4            0.62\n",
       "5            0.54\n",
       "6            0.55\n",
       "7            0.81"
      ]
     },
     "execution_count": 75,
     "metadata": {},
     "output_type": "execute_result"
    }
   ],
   "source": [
    "n_splits = 4\n",
    "test_size = 0.3 #Hp\n",
    "num_genes_fold = 15\n",
    "num_genes_final = 5\n",
    "folds = 10\n",
    "events = os.listdir('Dados/Eventos adversos')\n",
    "metrics = pd.DataFrame()\n",
    "metrics_ = []\n",
    "\n",
    "n_folds = 4\n",
    "test_size = 0.35\n",
    "\n",
    "kfold = KFold(n_folds,shuffle=True,random_state=42)\n",
    "\n",
    "max_depth = 20\n",
    "depths = [i for i in range(1,max_depth+1)]\n",
    "param_grid = {'max_depth':depths,\n",
    "              'splitter':['best', 'random'],\n",
    "              'criterion':['gini','entropy']\n",
    "             }\n",
    "\n",
    "\n",
    "for event in events:\n",
    "    dados = pd.read_csv(f'Dados/Eventos adversos/{event}')\n",
    "    \n",
    "    X = dados.iloc[:,:-1]\n",
    "    y = dados.iloc[:,-1]\n",
    "    \n",
    "    genes = get_genes(X,y,estimators,num_genes_fold,num_genes_final,folds)\n",
    "    X = X[genes]\n",
    "\n",
    "    sss = StratifiedShuffleSplit(n_splits=n_splits, test_size=test_size, random_state=42)\n",
    "\n",
    "    tree_score = 0.0\n",
    "\n",
    "    for train_index, test_index in sss.split(X, y):    \n",
    "        X_train,X_test,y_train,y_test = X.iloc[train_index],X.iloc[test_index],y.iloc[train_index],y.iloc[test_index]\n",
    "        hp = get_hiperparams(X_train,X_test,y_train,y_test,kfold,param_grid,DecisionTreeClassifier(random_state=42,),10,6,False,False,False)\n",
    "        criterion_opt,max_depth_opt,splitter_opt = hp.values()\n",
    "        #Decision Trees\n",
    "        tree = make_pipeline(StandardScaler(),\n",
    "                            DecisionTreeClassifier(random_state=42,\n",
    "                                                   criterion=criterion_opt,\n",
    "                                                   max_depth=max_depth_opt,\n",
    "                                                   splitter=splitter_opt))\n",
    "\n",
    "        tree.fit(X_train,y_train)\n",
    "        pred_tree = tree.predict(X_test)\n",
    "        tree_score += f1_score(y_test,pred_tree,average='weighted',pos_label=\"Plano ID\")\n",
    "\n",
    "    tree_score /= float(n_splits)\n",
    "    \n",
    "    tree_score = round(tree_score,2)\n",
    "    \n",
    "    metrics_.append(tree_score)\n",
    "\n",
    "#     print(f\"F1-score for {event[:-4]}: Decision Trees: {tree_score}\")\n",
    "\n",
    "metrics['Decision_trees'] = metrics_\n",
    "metrics"
   ]
  },
  {
   "cell_type": "markdown",
   "metadata": {},
   "source": [
    "# Classification for # of events"
   ]
  },
  {
   "cell_type": "code",
   "execution_count": 84,
   "metadata": {},
   "outputs": [
    {
     "name": "stdout",
     "output_type": "stream",
     "text": [
      "F1-score: Decision Trees: 65.0%\n"
     ]
    }
   ],
   "source": [
    "dados = pd.read_csv('Dados/dados soma.csv')\n",
    "\n",
    "X_soma = dados.iloc[:,:-1]\n",
    "y_soma = dados.iloc[:,-1]\n",
    "\n",
    "estimators = [SVR(kernel='linear'),\n",
    "              SGDRegressor(),\n",
    "              ElasticNet(),\n",
    "              RidgeCV(),\n",
    "              LinearRegression()]\n",
    "\n",
    "genes = get_genes(X_soma,y_soma,estimators,num_genes_fold,num_genes_final,folds)\n",
    "X_soma = X_soma[genes]\n",
    "\n",
    "n_splits = 4\n",
    "test_size = 0.3 \n",
    "num_genes_fold = 15\n",
    "num_genes_final = 8\n",
    "folds = 10\n",
    "\n",
    "n_folds = 4\n",
    "test_size = 0.35\n",
    "\n",
    "kfold = KFold(n_folds,shuffle=True,random_state=42)\n",
    "\n",
    "max_depth = 20\n",
    "depths = [i for i in range(1,max_depth+1)]\n",
    "param_grid = {'max_depth':depths,\n",
    "              'splitter':['best', 'random'],\n",
    "              'criterion':['gini','entropy']\n",
    "             }\n",
    "\n",
    "sss = StratifiedShuffleSplit(n_splits=n_splits, test_size=test_size, random_state=42)\n",
    "\n",
    "tree_score = 0.0\n",
    "\n",
    "for train_index, test_index in sss.split(X_soma, y_soma):    \n",
    "    X_train,X_test,y_train,y_test = X_soma.iloc[train_index],X_soma.iloc[test_index],y_soma.iloc[train_index],y_soma.iloc[test_index]\n",
    "    hp = get_hiperparams(X_train,X_test,y_train,y_test,kfold,param_grid,DecisionTreeClassifier(random_state=42,),10,6,False,False,False)\n",
    "    criterion_opt,max_depth_opt,splitter_opt = hp.values()\n",
    "\n",
    "    #Decision Trees\n",
    "    tree = make_pipeline(StandardScaler(),\n",
    "                        DecisionTreeClassifier(random_state=42,\n",
    "                                               criterion=criterion_opt,\n",
    "                                               max_depth=max_depth_opt,\n",
    "                                               splitter=splitter_opt))\n",
    "\n",
    "    tree.fit(X_train,y_train)\n",
    "    pred_tree = tree.predict(X_test)\n",
    "    tree_score += f1_score(y_test,pred_tree,average='weighted',pos_label=\"Plano ID\")\n",
    "\n",
    "tree_score /= float(n_splits)\n",
    "\n",
    "tree_score = round(tree_score,2)\n",
    "\n",
    "\n",
    "print(f\"F1-score: Decision Trees: {tree_score*100}%\")"
   ]
  },
  {
   "cell_type": "code",
   "execution_count": 72,
   "metadata": {},
   "outputs": [
    {
     "data": {
      "text/plain": [
       "323    2\n",
       "83     1\n",
       "75     1\n",
       "281    1\n",
       "60     1\n",
       "      ..\n",
       "245    1\n",
       "267    1\n",
       "395    2\n",
       "379    2\n",
       "107    2\n",
       "Name: Class, Length: 282, dtype: int64"
      ]
     },
     "execution_count": 72,
     "metadata": {},
     "output_type": "execute_result"
    }
   ],
   "source": [
    "y_train"
   ]
  }
 ],
 "metadata": {
  "kernelspec": {
   "display_name": "deeplearn",
   "language": "python",
   "name": "deeplearn"
  },
  "language_info": {
   "codemirror_mode": {
    "name": "ipython",
    "version": 3
   },
   "file_extension": ".py",
   "mimetype": "text/x-python",
   "name": "python",
   "nbconvert_exporter": "python",
   "pygments_lexer": "ipython3",
   "version": "3.8.5"
  }
 },
 "nbformat": 4,
 "nbformat_minor": 4
}
